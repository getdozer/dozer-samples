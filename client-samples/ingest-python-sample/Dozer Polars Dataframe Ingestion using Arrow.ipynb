{
    "cells": [
        {
            "cell_type": "code",
            "execution_count": 1,
            "id": "a684f564",
            "metadata": {},
            "outputs": [],
            "source": [
                "import polars as pl\n",
                "from pydozer.ingest import IngestClient\n",
                "from pydozer.api import ApiClient\n",
                "import multiprocessing\n",
                "import subprocess"
            ]
        },
        {
            "cell_type": "markdown",
            "id": "6468d85e",
            "metadata": {},
            "source": [
                "### Load trips data"
            ]
        },
        {
            "cell_type": "code",
            "execution_count": 2,
            "id": "8224ad2e",
            "metadata": {},
            "outputs": [
                {
                    "data": {
                        "text/html": [
                            "<div><style>\n",
                            ".dataframe > thead > tr > th,\n",
                            ".dataframe > tbody > tr > td {\n",
                            "  text-align: right;\n",
                            "}\n",
                            "</style>\n",
                            "<small>shape: (5, 24)</small><table border=\"1\" class=\"dataframe\"><thead><tr><th>hvfhs_license_num</th><th>dispatching_base_num</th><th>originating_base_num</th><th>request_datetime</th><th>on_scene_datetime</th><th>pickup_datetime</th><th>dropoff_datetime</th><th>PULocationID</th><th>DOLocationID</th><th>trip_miles</th><th>trip_time</th><th>base_passenger_fare</th><th>tolls</th><th>bcf</th><th>sales_tax</th><th>congestion_surcharge</th><th>airport_fee</th><th>tips</th><th>driver_pay</th><th>shared_request_flag</th><th>shared_match_flag</th><th>access_a_ride_flag</th><th>wav_request_flag</th><th>wav_match_flag</th></tr><tr><td>str</td><td>str</td><td>str</td><td>datetime[ns]</td><td>datetime[ns]</td><td>datetime[ns]</td><td>datetime[ns]</td><td>i64</td><td>i64</td><td>f64</td><td>i64</td><td>f64</td><td>f64</td><td>f64</td><td>f64</td><td>f64</td><td>f64</td><td>f64</td><td>f64</td><td>str</td><td>str</td><td>str</td><td>str</td><td>str</td></tr></thead><tbody><tr><td>&quot;HV0003&quot;</td><td>&quot;B03404&quot;</td><td>&quot;B03404&quot;</td><td>2022-01-01 00:05:31</td><td>2022-01-01 00:05:40</td><td>2022-01-01 00:07:24</td><td>2022-01-01 00:18:28</td><td>170</td><td>161</td><td>1.18</td><td>664</td><td>24.9</td><td>0.0</td><td>0.75</td><td>2.21</td><td>2.75</td><td>0.0</td><td>0.0</td><td>23.03</td><td>&quot;N&quot;</td><td>&quot;N&quot;</td><td>&quot; &quot;</td><td>&quot;N&quot;</td><td>&quot;N&quot;</td></tr><tr><td>&quot;HV0003&quot;</td><td>&quot;B03404&quot;</td><td>&quot;B03404&quot;</td><td>2022-01-01 00:19:27</td><td>2022-01-01 00:22:08</td><td>2022-01-01 00:22:32</td><td>2022-01-01 00:30:12</td><td>237</td><td>161</td><td>0.82</td><td>460</td><td>11.97</td><td>0.0</td><td>0.36</td><td>1.06</td><td>2.75</td><td>0.0</td><td>0.0</td><td>12.32</td><td>&quot;N&quot;</td><td>&quot;N&quot;</td><td>&quot; &quot;</td><td>&quot;N&quot;</td><td>&quot;N&quot;</td></tr><tr><td>&quot;HV0003&quot;</td><td>&quot;B03404&quot;</td><td>&quot;B03404&quot;</td><td>2022-01-01 00:43:53</td><td>2022-01-01 00:57:37</td><td>2022-01-01 00:57:37</td><td>2022-01-01 01:07:32</td><td>237</td><td>161</td><td>1.18</td><td>595</td><td>29.82</td><td>0.0</td><td>0.89</td><td>2.65</td><td>2.75</td><td>0.0</td><td>0.0</td><td>23.3</td><td>&quot;N&quot;</td><td>&quot;N&quot;</td><td>&quot; &quot;</td><td>&quot;N&quot;</td><td>&quot;N&quot;</td></tr><tr><td>&quot;HV0003&quot;</td><td>&quot;B03404&quot;</td><td>&quot;B03404&quot;</td><td>2022-01-01 00:15:36</td><td>2022-01-01 00:17:08</td><td>2022-01-01 00:18:02</td><td>2022-01-01 00:23:05</td><td>262</td><td>229</td><td>1.65</td><td>303</td><td>7.91</td><td>0.0</td><td>0.24</td><td>0.7</td><td>2.75</td><td>0.0</td><td>0.0</td><td>6.3</td><td>&quot;N&quot;</td><td>&quot;N&quot;</td><td>&quot; &quot;</td><td>&quot;N&quot;</td><td>&quot;N&quot;</td></tr><tr><td>&quot;HV0003&quot;</td><td>&quot;B03404&quot;</td><td>&quot;B03404&quot;</td><td>2022-01-01 00:25:45</td><td>2022-01-01 00:26:01</td><td>2022-01-01 00:28:01</td><td>2022-01-01 00:35:42</td><td>229</td><td>141</td><td>1.65</td><td>461</td><td>9.44</td><td>0.0</td><td>0.28</td><td>0.84</td><td>2.75</td><td>0.0</td><td>0.0</td><td>7.44</td><td>&quot;N&quot;</td><td>&quot;N&quot;</td><td>&quot; &quot;</td><td>&quot;N&quot;</td><td>&quot;N&quot;</td></tr></tbody></table></div>"
                        ],
                        "text/plain": [
                            "shape: (5, 24)\n",
                            "┌────────────┬────────────┬────────────┬────────────┬─────┬────────────┬────────────┬────────────┬────────────┐\n",
                            "│ hvfhs_lice ┆ dispatchin ┆ originatin ┆ request_da ┆ ... ┆ shared_mat ┆ access_a_r ┆ wav_reques ┆ wav_match_ │\n",
                            "│ nse_num    ┆ g_base_num ┆ g_base_num ┆ tetime     ┆     ┆ ch_flag    ┆ ide_flag   ┆ t_flag     ┆ flag       │\n",
                            "│ ---        ┆ ---        ┆ ---        ┆ ---        ┆     ┆ ---        ┆ ---        ┆ ---        ┆ ---        │\n",
                            "│ str        ┆ str        ┆ str        ┆ datetime[n ┆     ┆ str        ┆ str        ┆ str        ┆ str        │\n",
                            "│            ┆            ┆            ┆ s]         ┆     ┆            ┆            ┆            ┆            │\n",
                            "╞════════════╪════════════╪════════════╪════════════╪═════╪════════════╪════════════╪════════════╪════════════╡\n",
                            "│ HV0003     ┆ B03404     ┆ B03404     ┆ 2022-01-01 ┆ ... ┆ N          ┆            ┆ N          ┆ N          │\n",
                            "│            ┆            ┆            ┆ 00:05:31   ┆     ┆            ┆            ┆            ┆            │\n",
                            "│ HV0003     ┆ B03404     ┆ B03404     ┆ 2022-01-01 ┆ ... ┆ N          ┆            ┆ N          ┆ N          │\n",
                            "│            ┆            ┆            ┆ 00:19:27   ┆     ┆            ┆            ┆            ┆            │\n",
                            "│ HV0003     ┆ B03404     ┆ B03404     ┆ 2022-01-01 ┆ ... ┆ N          ┆            ┆ N          ┆ N          │\n",
                            "│            ┆            ┆            ┆ 00:43:53   ┆     ┆            ┆            ┆            ┆            │\n",
                            "│ HV0003     ┆ B03404     ┆ B03404     ┆ 2022-01-01 ┆ ... ┆ N          ┆            ┆ N          ┆ N          │\n",
                            "│            ┆            ┆            ┆ 00:15:36   ┆     ┆            ┆            ┆            ┆            │\n",
                            "│ HV0003     ┆ B03404     ┆ B03404     ┆ 2022-01-01 ┆ ... ┆ N          ┆            ┆ N          ┆ N          │\n",
                            "│            ┆            ┆            ┆ 00:25:45   ┆     ┆            ┆            ┆            ┆            │\n",
                            "└────────────┴────────────┴────────────┴────────────┴─────┴────────────┴────────────┴────────────┴────────────┘"
                        ]
                    },
                    "execution_count": 2,
                    "metadata": {},
                    "output_type": "execute_result"
                }
            ],
            "source": [
                "df = pl.read_parquet('data/trips/fhvhv_tripdata_2022-01.parquet')\n",
                "small = df.head(1000)\n",
                "small.head()"
            ]
        },
        {
            "cell_type": "markdown",
            "id": "89b62412",
            "metadata": {},
            "source": [
                "### Init Dozer Server\n",
                "\n",
                "```\n",
                "dozer -c dozer-config.yaml\n",
                "```"
            ]
        },
        {
            "cell_type": "markdown",
            "id": "64c640d8",
            "metadata": {},
            "source": [
                "### Ingest Dataframe as Arrow format"
            ]
        },
        {
            "cell_type": "code",
            "execution_count": 3,
            "id": "b1e5dde0",
            "metadata": {},
            "outputs": [
                {
                    "name": "stdout",
                    "output_type": "stream",
                    "text": [
                        "Ingesting via stream in Arrow Format...\n"
                    ]
                },
                {
                    "name": "stderr",
                    "output_type": "stream",
                    "text": [
                        "100%|█████████████████████████████████████████████████████████████████████████████| 1000/1000 [00:00<00:00, 91811.22it/s]\n"
                    ]
                },
                {
                    "data": {
                        "text/plain": [
                            "seq_no: 1"
                        ]
                    },
                    "execution_count": 3,
                    "metadata": {},
                    "output_type": "execute_result"
                }
            ],
            "source": [
                "ingest_client = IngestClient(url=\"localhost:7005\")\n",
                "ingest_client.ingest_df_arrow(\"trips\", small)"
            ]
        },
        {
            "cell_type": "markdown",
            "id": "041f020b",
            "metadata": {},
            "source": [
                "### Query APIs"
            ]
        },
        {
            "cell_type": "code",
            "execution_count": 4,
            "id": "3ae6aa21",
            "metadata": {},
            "outputs": [
                {
                    "data": {
                        "text/plain": [
                            "count: 2000"
                        ]
                    },
                    "execution_count": 4,
                    "metadata": {},
                    "output_type": "execute_result"
                }
            ],
            "source": [
                "api_client = ApiClient(\"trips\", url=\"localhost:7003\")\n",
                "api_client.count()"
            ]
        },
        {
            "cell_type": "code",
            "execution_count": 5,
            "id": "ab928c4a",
            "metadata": {},
            "outputs": [
                {
                    "data": {
                        "text/plain": [
                            "fields {\n",
                            "  typ: String\n",
                            "  name: \"hvfhs_license_num\"\n",
                            "  nullable: true\n",
                            "}\n",
                            "fields {\n",
                            "  typ: String\n",
                            "  name: \"dispatching_base_num\"\n",
                            "  nullable: true\n",
                            "}\n",
                            "fields {\n",
                            "  typ: String\n",
                            "  name: \"originating_base_num\"\n",
                            "  nullable: true\n",
                            "}\n",
                            "fields {\n",
                            "  typ: Timestamp\n",
                            "  name: \"request_datetime\"\n",
                            "  nullable: true\n",
                            "}\n",
                            "fields {\n",
                            "  typ: Timestamp\n",
                            "  name: \"on_scene_datetime\"\n",
                            "  nullable: true\n",
                            "}\n",
                            "fields {\n",
                            "  typ: Timestamp\n",
                            "  name: \"pickup_datetime\"\n",
                            "  nullable: true\n",
                            "}\n",
                            "fields {\n",
                            "  typ: Timestamp\n",
                            "  name: \"dropoff_datetime\"\n",
                            "  nullable: true\n",
                            "}\n",
                            "fields {\n",
                            "  typ: Int\n",
                            "  name: \"PULocationID\"\n",
                            "  nullable: true\n",
                            "}\n",
                            "fields {\n",
                            "  typ: Int\n",
                            "  name: \"DOLocationID\"\n",
                            "  nullable: true\n",
                            "}\n",
                            "fields {\n",
                            "  typ: Float\n",
                            "  name: \"trip_miles\"\n",
                            "  nullable: true\n",
                            "}\n",
                            "fields {\n",
                            "  typ: Int\n",
                            "  name: \"trip_time\"\n",
                            "  nullable: true\n",
                            "}\n",
                            "fields {\n",
                            "  typ: Float\n",
                            "  name: \"base_passenger_fare\"\n",
                            "  nullable: true\n",
                            "}\n",
                            "fields {\n",
                            "  typ: Float\n",
                            "  name: \"tolls\"\n",
                            "  nullable: true\n",
                            "}\n",
                            "fields {\n",
                            "  typ: Float\n",
                            "  name: \"bcf\"\n",
                            "  nullable: true\n",
                            "}\n",
                            "fields {\n",
                            "  typ: Float\n",
                            "  name: \"sales_tax\"\n",
                            "  nullable: true\n",
                            "}\n",
                            "fields {\n",
                            "  typ: Float\n",
                            "  name: \"congestion_surcharge\"\n",
                            "  nullable: true\n",
                            "}\n",
                            "fields {\n",
                            "  typ: Float\n",
                            "  name: \"airport_fee\"\n",
                            "  nullable: true\n",
                            "}\n",
                            "fields {\n",
                            "  typ: Float\n",
                            "  name: \"tips\"\n",
                            "  nullable: true\n",
                            "}\n",
                            "fields {\n",
                            "  typ: Float\n",
                            "  name: \"driver_pay\"\n",
                            "  nullable: true\n",
                            "}\n",
                            "fields {\n",
                            "  typ: String\n",
                            "  name: \"shared_request_flag\"\n",
                            "  nullable: true\n",
                            "}\n",
                            "fields {\n",
                            "  typ: String\n",
                            "  name: \"shared_match_flag\"\n",
                            "  nullable: true\n",
                            "}\n",
                            "fields {\n",
                            "  typ: String\n",
                            "  name: \"access_a_ride_flag\"\n",
                            "  nullable: true\n",
                            "}\n",
                            "fields {\n",
                            "  typ: String\n",
                            "  name: \"wav_request_flag\"\n",
                            "  nullable: true\n",
                            "}\n",
                            "fields {\n",
                            "  typ: String\n",
                            "  name: \"wav_match_flag\"\n",
                            "  nullable: true\n",
                            "}\n",
                            "records {\n",
                            "  record {\n",
                            "    values {\n",
                            "      string_value: \"HV0003\"\n",
                            "    }\n",
                            "    values {\n",
                            "      string_value: \"B03404\"\n",
                            "    }\n",
                            "    values {\n",
                            "      string_value: \"B03404\"\n",
                            "    }\n",
                            "    values {\n",
                            "      timestamp_value {\n",
                            "        seconds: 1640995531\n",
                            "      }\n",
                            "    }\n",
                            "    values {\n",
                            "      timestamp_value {\n",
                            "        seconds: 1640995540\n",
                            "      }\n",
                            "    }\n",
                            "    values {\n",
                            "      timestamp_value {\n",
                            "        seconds: 1640995644\n",
                            "      }\n",
                            "    }\n",
                            "    values {\n",
                            "      timestamp_value {\n",
                            "        seconds: 1640996308\n",
                            "      }\n",
                            "    }\n",
                            "    values {\n",
                            "      int_value: 170\n",
                            "    }\n",
                            "    values {\n",
                            "      int_value: 161\n",
                            "    }\n",
                            "    values {\n",
                            "      float_value: 1.18\n",
                            "    }\n",
                            "    values {\n",
                            "      int_value: 664\n",
                            "    }\n",
                            "    values {\n",
                            "      float_value: 24.9\n",
                            "    }\n",
                            "    values {\n",
                            "      float_value: 0\n",
                            "    }\n",
                            "    values {\n",
                            "      float_value: 0.75\n",
                            "    }\n",
                            "    values {\n",
                            "      float_value: 2.21\n",
                            "    }\n",
                            "    values {\n",
                            "      float_value: 2.75\n",
                            "    }\n",
                            "    values {\n",
                            "      float_value: 0\n",
                            "    }\n",
                            "    values {\n",
                            "      float_value: 0\n",
                            "    }\n",
                            "    values {\n",
                            "      float_value: 23.03\n",
                            "    }\n",
                            "    values {\n",
                            "      string_value: \"N\"\n",
                            "    }\n",
                            "    values {\n",
                            "      string_value: \"N\"\n",
                            "    }\n",
                            "    values {\n",
                            "      string_value: \" \"\n",
                            "    }\n",
                            "    values {\n",
                            "      string_value: \"N\"\n",
                            "    }\n",
                            "    values {\n",
                            "      string_value: \"N\"\n",
                            "    }\n",
                            "    version: 1\n",
                            "  }\n",
                            "}"
                        ]
                    },
                    "execution_count": 5,
                    "metadata": {},
                    "output_type": "execute_result"
                }
            ],
            "source": [
                "api_client.query({'$limit': 1})"
            ]
        }
    ],
    "metadata": {
        "kernelspec": {
            "display_name": "Python 3 (ipykernel)",
            "language": "python",
            "name": "python3"
        },
        "language_info": {
            "codemirror_mode": {
                "name": "ipython",
                "version": 3
            },
            "file_extension": ".py",
            "mimetype": "text/x-python",
            "name": "python",
            "nbconvert_exporter": "python",
            "pygments_lexer": "ipython3",
            "version": "3.11.2"
        }
    },
    "nbformat": 4,
    "nbformat_minor": 5
}